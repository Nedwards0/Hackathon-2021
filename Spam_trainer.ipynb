{
  "nbformat": 4,
  "nbformat_minor": 0,
  "metadata": {
    "colab": {
      "name": "Spam_trainer.ipynb",
      "provenance": [],
      "collapsed_sections": []
    },
    "kernelspec": {
      "name": "python3",
      "display_name": "Python 3"
    }
  },
  "cells": [
    {
      "cell_type": "code",
      "metadata": {
        "id": "g2ivpw15sX8U"
      },
      "source": [
        "from pathlib import Path\r\n",
        "import requests\r\n",
        "import pandas as pd\r\n",
        "from sklearn.model_selection import train_test_split\r\n",
        "import torch\r\n",
        "import torchvision\r\n",
        "import numpy as np\r\n",
        "from torch.utils.data import Dataset, DataLoader\r\n",
        "from torchtext.data.utils import get_tokenizer\r\n",
        "from collections import Counter\r\n",
        "from torchtext.vocab import Vocab\r\n",
        "from torch import nn\r\n",
        "import time\r\n",
        "from torch.utils.data.dataset import random_split\r\n",
        "from tkinter import *\r\n",
        "\r\n",
        "\r\n",
        "\r\n"
      ],
      "execution_count": 1,
      "outputs": []
    },
    {
      "cell_type": "code",
      "metadata": {
        "id": "bDAHZjplXYXj"
      },
      "source": [
        "c=Counter()\r\n",
        "df=pd.read_csv('/content/spam.csv')\r\n"
      ],
      "execution_count": 2,
      "outputs": []
    },
    {
      "cell_type": "code",
      "metadata": {
        "id": "dakLLxcfXWHw"
      },
      "source": [
        "tokenizer = get_tokenizer('basic_english')\r\n",
        "for x in df[\"EmailText\"]:\r\n",
        "  tokens=tokenizer(x)\r\n",
        "  tokens\r\n",
        "  c.update(tokens)"
      ],
      "execution_count": 3,
      "outputs": []
    },
    {
      "cell_type": "code",
      "metadata": {
        "id": "h_vDf3QMcB_K"
      },
      "source": [
        "res = [token for token in c.keys() if c[token] > 10]\r\n",
        "\r\n",
        "arr = np.array\r\n",
        "hash={}\r\n",
        "count=0;\r\n",
        "for i in res:\r\n",
        "  hash[i]=count\r\n",
        "  count=count+1\r\n",
        "hash\r\n",
        "hash[\"<unk>\"]=count\r\n",
        "hash.get(1)\r\n",
        "res.append(\"<unk>\")"
      ],
      "execution_count": 4,
      "outputs": []
    },
    {
      "cell_type": "code",
      "metadata": {
        "id": "CLn9cnTndcwv"
      },
      "source": [
        "clean_email_text=[]\r\n",
        "for email in df[\"EmailText\"]:\r\n",
        "  clean_tokens=[]\r\n",
        "  tokens=tokenizer(email)\r\n",
        "  for token in tokens:\r\n",
        "    if(token in res):\r\n",
        "      clean_tokens.append(token)\r\n",
        "    else:\r\n",
        "      clean_tokens.append('<unk>')\r\n",
        "  seperator=\" \"\r\n",
        "  clean_email=seperator.join(clean_tokens)\r\n",
        "  clean_email_text.append(clean_email)\r\n",
        "df[\"CleanEmailText\"]=clean_email_text\r\n",
        "df.to_csv(\"/content/Clean_Spam.csv\")"
      ],
      "execution_count": 5,
      "outputs": []
    },
    {
      "cell_type": "code",
      "metadata": {
        "id": "AlJmRrhotTaT"
      },
      "source": [
        "class Spam(Dataset):\r\n",
        "    \r\n",
        "\r\n",
        "    def __init__(self, datapath):\r\n",
        "     # self.classes = pd.read_csv(annotations_file)#Labels?\r\n",
        "      self.datapath=datapath\r\n",
        "\r\n",
        "      \r\n",
        "    def __getitem__(self, index):\r\n",
        "      df=pd.read_csv(self.datapath)\r\n",
        "      y,x=df.iloc[index]\r\n",
        "      tokens=tokenizer(x)\r\n",
        "      vectorized_x=[]\r\n",
        "      for token in tokens:\r\n",
        "        if(token in res):\r\n",
        "          vectorized_x.append(hash.get(token))\r\n",
        "        else:\r\n",
        "          vectorized_x.append(hash.get(\"<unk>\"))\r\n",
        "      tensor_x=torch.tensor(vectorized_x,dtype=torch.int64)\r\n",
        "      if(y==\"ham\"):\r\n",
        "        label=torch.tensor(0,dtype=torch.int64)\r\n",
        "      else:\r\n",
        "        label=torch.tensor(1,dtype=torch.int64)\r\n",
        "      return (tensor_x,label)\r\n",
        "\r\n",
        "    def __len__(self):\r\n",
        "      return (df[df.columns[0]].count())\r\n",
        "  "
      ],
      "execution_count": 6,
      "outputs": []
    },
    {
      "cell_type": "code",
      "metadata": {
        "id": "cdjmVBXwtmEL"
      },
      "source": [
        "data=Spam(\"/content/spam.csv\")\r\n",
        "\r\n"
      ],
      "execution_count": 7,
      "outputs": []
    },
    {
      "cell_type": "code",
      "metadata": {
        "colab": {
          "base_uri": "https://localhost:8080/"
        },
        "id": "RROykjUC56kZ",
        "outputId": "dab45f3b-e0c9-42e1-a1a0-05d3939f795e"
      },
      "source": [
        "val_set_size=((df[df.columns[0]].count()))*1.25\r\n",
        "actual=((df[df.columns[0]].count()))*1\r\n",
        "val_set_size=val_set_size-actual\r\n",
        "train_set_size=actual-val_set_size\r\n",
        "train_set_size+val_set_size\r\n"
      ],
      "execution_count": 8,
      "outputs": [
        {
          "output_type": "execute_result",
          "data": {
            "text/plain": [
              "5572.0"
            ]
          },
          "metadata": {
            "tags": []
          },
          "execution_count": 8
        }
      ]
    },
    {
      "cell_type": "code",
      "metadata": {
        "id": "C3KDVuB95M76"
      },
      "source": [
        "train_dataset,val_dataset=torch.utils.data.random_split(data,[int(train_set_size),int(val_set_size)])"
      ],
      "execution_count": 9,
      "outputs": []
    },
    {
      "cell_type": "code",
      "metadata": {
        "colab": {
          "base_uri": "https://localhost:8080/"
        },
        "id": "wtpGTLo9Of19",
        "outputId": "f4b6e20f-5686-44cb-8324-102ba7df8a8e"
      },
      "source": [
        "print(\"Length of train\", len(train_dataset))\r\n",
        "print(\"Length of Val\",len(val_dataset))"
      ],
      "execution_count": 10,
      "outputs": [
        {
          "output_type": "stream",
          "text": [
            "Length of train 4179\n",
            "Length of Val 1393\n"
          ],
          "name": "stdout"
        }
      ]
    },
    {
      "cell_type": "code",
      "metadata": {
        "id": "W06tWj4ATHTG"
      },
      "source": [
        "train_dataloader=DataLoader(train_dataset,batch_size=1,shuffle=True)\r\n",
        "val_dataloader=DataLoader(val_dataset,batch_size=1)"
      ],
      "execution_count": 11,
      "outputs": []
    },
    {
      "cell_type": "code",
      "metadata": {
        "id": "oTjiz6BHJ6U_"
      },
      "source": [
        "class TextClassificationModel(nn.Module):\r\n",
        "  def __init__(self,num_words,emb_size,num_class):\r\n",
        "    super().__init__()\r\n",
        "    self.emb_size=emb_size\r\n",
        "    self.num_words=num_words\r\n",
        "    self.emb1=nn.Embedding(self.num_words,self.emb_size)\r\n",
        "    self.lstm1 =nn.LSTM(emb_size,hidden_size=32,batch_first=True)\r\n",
        "    self.relu1=nn.ReLU()\r\n",
        "    self.lin1 =nn.Linear(32,2)\r\n",
        "  def forward(self,batched_data):\r\n",
        "    token_embs=self.emb1(batched_data)\r\n",
        "    outputs, (h_n,c_n)=self.lstm1(token_embs)\r\n",
        "    last_hidden_state=h_n\r\n",
        "    last_hidden_state = last_hidden_state.permute(1,0,2)\r\n",
        "    last_hidden_state = last_hidden_state.flatten(start_dim=1)\r\n",
        "\r\n",
        "    last_hidden_state = self.relu1(last_hidden_state)\r\n",
        "\r\n",
        "    logits = self.lin1(last_hidden_state)\r\n",
        "\r\n",
        "    return logits\r\n",
        "\r\n",
        "\r\n"
      ],
      "execution_count": 12,
      "outputs": []
    },
    {
      "cell_type": "code",
      "metadata": {
        "id": "aVe2S3h7MK0G",
        "colab": {
          "base_uri": "https://localhost:8080/"
        },
        "outputId": "d8b81ac4-ce2f-4fa7-f1ea-fdc6c486506e"
      },
      "source": [
        "num_class = 2\r\n",
        "vocab_size = len(res)\r\n",
        "emsize = 64\r\n",
        "model = TextClassificationModel(vocab_size, emsize, num_class)\r\n",
        "model"
      ],
      "execution_count": 13,
      "outputs": [
        {
          "output_type": "execute_result",
          "data": {
            "text/plain": [
              "TextClassificationModel(\n",
              "  (emb1): Embedding(991, 64)\n",
              "  (lstm1): LSTM(64, 32, batch_first=True)\n",
              "  (relu1): ReLU()\n",
              "  (lin1): Linear(in_features=32, out_features=2, bias=True)\n",
              ")"
            ]
          },
          "metadata": {
            "tags": []
          },
          "execution_count": 13
        }
      ]
    },
    {
      "cell_type": "code",
      "metadata": {
        "id": "49TlkEyiT0tN"
      },
      "source": [
        "def train(dataloader):\r\n",
        "    model.train()\r\n",
        "    total_acc, total_count = 0, 0\r\n",
        "    log_interval = 500\r\n",
        "    start_time = time.time()\r\n",
        "    total_loss=0\r\n",
        "    total_count=0\r\n",
        "    for idx, (text, label) in enumerate(dataloader):\r\n",
        "        optimizer.zero_grad()\r\n",
        "        predited_label = model(text)\r\n",
        "        loss = criterion(predited_label, label)\r\n",
        "        total_loss+=loss\r\n",
        "\r\n",
        "        loss.backward()\r\n",
        "        torch.nn.utils.clip_grad_norm_(model.parameters(), 0.1)\r\n",
        "        optimizer.step()\r\n",
        "        optimizer.zero_grad()\r\n",
        "        total_acc += (predited_label.argmax(1) == label).sum().item()\r\n",
        "        total_count+=label.size(0)\r\n",
        "\r\n",
        "        if idx % log_interval == 0 and idx > 0:\r\n",
        "            print('| epoch {0} | {1}/{2} batches | accuracy {3}| loss {4}'.format(epoch, idx, len(dataloader),\r\n",
        "          total_acc/total_count,total_loss/log_interval))\r\n",
        "            total_loss=0\r\n",
        "            total_acc=0\r\n",
        "            total_count=0\r\n",
        "\r\n",
        "def evaluate(dataloader):\r\n",
        "    total_loss=0\r\n",
        "    model.eval()\r\n",
        "    total_acc, total_count = 0, 0\r\n",
        "\r\n",
        "    with torch.no_grad():\r\n",
        "        for idx, (text, label) in enumerate(dataloader):\r\n",
        "            predited_label = model(text)\r\n",
        "            loss = criterion(predited_label, label)\r\n",
        "            total_acc += (predited_label.argmax(1) == label).sum().item()\r\n",
        "            total_count += label.size(0)\r\n",
        "            total_loss+=loss\r\n",
        "    return total_loss/len(dataloader),total_acc/total_count"
      ],
      "execution_count": 17,
      "outputs": []
    },
    {
      "cell_type": "code",
      "metadata": {
        "id": "2rUTT-4aVY8G"
      },
      "source": [
        "LR=.001\r\n",
        "epochs=10\r\n",
        "criterion = torch.nn.CrossEntropyLoss()\r\n",
        "optimizer = torch.optim.Adam(model.parameters(), lr=LR)"
      ],
      "execution_count": 18,
      "outputs": []
    },
    {
      "cell_type": "code",
      "metadata": {
        "colab": {
          "base_uri": "https://localhost:8080/",
          "height": 1000
        },
        "id": "YqkBNLN1uvtl",
        "outputId": "2ee806a6-ebe4-4cc4-cc49-74f38bfa7d26"
      },
      "source": [
        "for epoch in range(1, epochs + 1):\r\n",
        "  epoch_start=time.time()\r\n",
        "  train(train_dataloader)\r\n",
        "  val_loss,val_acc = evaluate(val_dataloader)\r\n",
        "  print(\"validation | epoch {0}| accuracy {1} | loss {2} \".format(epoch,val_acc,val_loss))\r\n",
        " "
      ],
      "execution_count": 19,
      "outputs": [
        {
          "output_type": "stream",
          "text": [
            "| epoch 1 | 500/4179 batches | accuracy 0.9001996007984032| loss 0.33164170384407043\n",
            "| epoch 1 | 1000/4179 batches | accuracy 0.948| loss 0.22682572901248932\n",
            "| epoch 1 | 1500/4179 batches | accuracy 0.964| loss 0.1917949616909027\n",
            "| epoch 1 | 2000/4179 batches | accuracy 0.954| loss 0.20536957681179047\n",
            "| epoch 1 | 2500/4179 batches | accuracy 0.964| loss 0.19715990126132965\n",
            "| epoch 1 | 3000/4179 batches | accuracy 0.956| loss 0.24606133997440338\n",
            "| epoch 1 | 3500/4179 batches | accuracy 0.964| loss 0.18182267248630524\n",
            "| epoch 1 | 4000/4179 batches | accuracy 0.97| loss 0.18844124674797058\n",
            "validation | epoch 1| accuracy 0.9734386216798278 | loss 0.11363166570663452 \n",
            "| epoch 2 | 500/4179 batches | accuracy 0.9900199600798403| loss 0.052089862525463104\n",
            "| epoch 2 | 1000/4179 batches | accuracy 0.978| loss 0.13392199575901031\n",
            "| epoch 2 | 1500/4179 batches | accuracy 0.98| loss 0.12994134426116943\n",
            "| epoch 2 | 2000/4179 batches | accuracy 0.986| loss 0.06320465356111526\n",
            "| epoch 2 | 2500/4179 batches | accuracy 0.986| loss 0.10531078279018402\n",
            "| epoch 2 | 3000/4179 batches | accuracy 0.986| loss 0.10489707440137863\n",
            "| epoch 2 | 3500/4179 batches | accuracy 0.986| loss 0.10264993458986282\n",
            "| epoch 2 | 4000/4179 batches | accuracy 0.978| loss 0.1410638988018036\n",
            "validation | epoch 2| accuracy 0.9784637473079684 | loss 0.11704292893409729 \n",
            "| epoch 3 | 500/4179 batches | accuracy 0.9900199600798403| loss 0.07125888019800186\n",
            "| epoch 3 | 1000/4179 batches | accuracy 0.976| loss 0.13638395071029663\n",
            "| epoch 3 | 1500/4179 batches | accuracy 0.986| loss 0.05669821798801422\n",
            "| epoch 3 | 2000/4179 batches | accuracy 0.984| loss 0.09392276406288147\n",
            "| epoch 3 | 2500/4179 batches | accuracy 0.988| loss 0.06573119014501572\n",
            "| epoch 3 | 3000/4179 batches | accuracy 0.99| loss 0.0831374004483223\n",
            "| epoch 3 | 3500/4179 batches | accuracy 0.99| loss 0.08615411818027496\n",
            "| epoch 3 | 4000/4179 batches | accuracy 0.99| loss 0.07157321274280548\n",
            "validation | epoch 3| accuracy 0.9827709978463748 | loss 0.1099855899810791 \n",
            "| epoch 4 | 500/4179 batches | accuracy 0.9960079840319361| loss 0.019415803253650665\n"
          ],
          "name": "stdout"
        },
        {
          "output_type": "error",
          "ename": "KeyboardInterrupt",
          "evalue": "ignored",
          "traceback": [
            "\u001b[0;31m---------------------------------------------------------------------------\u001b[0m",
            "\u001b[0;31mKeyboardInterrupt\u001b[0m                         Traceback (most recent call last)",
            "\u001b[0;32m<ipython-input-19-de74f929a1ee>\u001b[0m in \u001b[0;36m<module>\u001b[0;34m()\u001b[0m\n\u001b[1;32m      1\u001b[0m \u001b[0;32mfor\u001b[0m \u001b[0mepoch\u001b[0m \u001b[0;32min\u001b[0m \u001b[0mrange\u001b[0m\u001b[0;34m(\u001b[0m\u001b[0;36m1\u001b[0m\u001b[0;34m,\u001b[0m \u001b[0mepochs\u001b[0m \u001b[0;34m+\u001b[0m \u001b[0;36m1\u001b[0m\u001b[0;34m)\u001b[0m\u001b[0;34m:\u001b[0m\u001b[0;34m\u001b[0m\u001b[0;34m\u001b[0m\u001b[0m\n\u001b[1;32m      2\u001b[0m   \u001b[0mepoch_start\u001b[0m\u001b[0;34m=\u001b[0m\u001b[0mtime\u001b[0m\u001b[0;34m.\u001b[0m\u001b[0mtime\u001b[0m\u001b[0;34m(\u001b[0m\u001b[0;34m)\u001b[0m\u001b[0;34m\u001b[0m\u001b[0;34m\u001b[0m\u001b[0m\n\u001b[0;32m----> 3\u001b[0;31m   \u001b[0mtrain\u001b[0m\u001b[0;34m(\u001b[0m\u001b[0mtrain_dataloader\u001b[0m\u001b[0;34m)\u001b[0m\u001b[0;34m\u001b[0m\u001b[0;34m\u001b[0m\u001b[0m\n\u001b[0m\u001b[1;32m      4\u001b[0m   \u001b[0mval_loss\u001b[0m\u001b[0;34m,\u001b[0m\u001b[0mval_acc\u001b[0m \u001b[0;34m=\u001b[0m \u001b[0mevaluate\u001b[0m\u001b[0;34m(\u001b[0m\u001b[0mval_dataloader\u001b[0m\u001b[0;34m)\u001b[0m\u001b[0;34m\u001b[0m\u001b[0;34m\u001b[0m\u001b[0m\n\u001b[1;32m      5\u001b[0m   \u001b[0mprint\u001b[0m\u001b[0;34m(\u001b[0m\u001b[0;34m\"validation | epoch {0}| accuracy {1} | loss {2} \"\u001b[0m\u001b[0;34m.\u001b[0m\u001b[0mformat\u001b[0m\u001b[0;34m(\u001b[0m\u001b[0mepoch\u001b[0m\u001b[0;34m,\u001b[0m\u001b[0mval_acc\u001b[0m\u001b[0;34m,\u001b[0m\u001b[0mval_loss\u001b[0m\u001b[0;34m)\u001b[0m\u001b[0;34m)\u001b[0m\u001b[0;34m\u001b[0m\u001b[0;34m\u001b[0m\u001b[0m\n",
            "\u001b[0;32m<ipython-input-17-15cb1aa6182d>\u001b[0m in \u001b[0;36mtrain\u001b[0;34m(dataloader)\u001b[0m\n\u001b[1;32m      6\u001b[0m     \u001b[0mtotal_loss\u001b[0m\u001b[0;34m=\u001b[0m\u001b[0;36m0\u001b[0m\u001b[0;34m\u001b[0m\u001b[0;34m\u001b[0m\u001b[0m\n\u001b[1;32m      7\u001b[0m     \u001b[0mtotal_count\u001b[0m\u001b[0;34m=\u001b[0m\u001b[0;36m0\u001b[0m\u001b[0;34m\u001b[0m\u001b[0;34m\u001b[0m\u001b[0m\n\u001b[0;32m----> 8\u001b[0;31m     \u001b[0;32mfor\u001b[0m \u001b[0midx\u001b[0m\u001b[0;34m,\u001b[0m \u001b[0;34m(\u001b[0m\u001b[0mtext\u001b[0m\u001b[0;34m,\u001b[0m \u001b[0mlabel\u001b[0m\u001b[0;34m)\u001b[0m \u001b[0;32min\u001b[0m \u001b[0menumerate\u001b[0m\u001b[0;34m(\u001b[0m\u001b[0mdataloader\u001b[0m\u001b[0;34m)\u001b[0m\u001b[0;34m:\u001b[0m\u001b[0;34m\u001b[0m\u001b[0;34m\u001b[0m\u001b[0m\n\u001b[0m\u001b[1;32m      9\u001b[0m         \u001b[0moptimizer\u001b[0m\u001b[0;34m.\u001b[0m\u001b[0mzero_grad\u001b[0m\u001b[0;34m(\u001b[0m\u001b[0;34m)\u001b[0m\u001b[0;34m\u001b[0m\u001b[0;34m\u001b[0m\u001b[0m\n\u001b[1;32m     10\u001b[0m         \u001b[0mpredited_label\u001b[0m \u001b[0;34m=\u001b[0m \u001b[0mmodel\u001b[0m\u001b[0;34m(\u001b[0m\u001b[0mtext\u001b[0m\u001b[0;34m)\u001b[0m\u001b[0;34m\u001b[0m\u001b[0;34m\u001b[0m\u001b[0m\n",
            "\u001b[0;32m/usr/local/lib/python3.7/dist-packages/torch/utils/data/dataloader.py\u001b[0m in \u001b[0;36m__next__\u001b[0;34m(self)\u001b[0m\n\u001b[1;32m    515\u001b[0m             \u001b[0;32mif\u001b[0m \u001b[0mself\u001b[0m\u001b[0;34m.\u001b[0m\u001b[0m_sampler_iter\u001b[0m \u001b[0;32mis\u001b[0m \u001b[0;32mNone\u001b[0m\u001b[0;34m:\u001b[0m\u001b[0;34m\u001b[0m\u001b[0;34m\u001b[0m\u001b[0m\n\u001b[1;32m    516\u001b[0m                 \u001b[0mself\u001b[0m\u001b[0;34m.\u001b[0m\u001b[0m_reset\u001b[0m\u001b[0;34m(\u001b[0m\u001b[0;34m)\u001b[0m\u001b[0;34m\u001b[0m\u001b[0;34m\u001b[0m\u001b[0m\n\u001b[0;32m--> 517\u001b[0;31m             \u001b[0mdata\u001b[0m \u001b[0;34m=\u001b[0m \u001b[0mself\u001b[0m\u001b[0;34m.\u001b[0m\u001b[0m_next_data\u001b[0m\u001b[0;34m(\u001b[0m\u001b[0;34m)\u001b[0m\u001b[0;34m\u001b[0m\u001b[0;34m\u001b[0m\u001b[0m\n\u001b[0m\u001b[1;32m    518\u001b[0m             \u001b[0mself\u001b[0m\u001b[0;34m.\u001b[0m\u001b[0m_num_yielded\u001b[0m \u001b[0;34m+=\u001b[0m \u001b[0;36m1\u001b[0m\u001b[0;34m\u001b[0m\u001b[0;34m\u001b[0m\u001b[0m\n\u001b[1;32m    519\u001b[0m             \u001b[0;32mif\u001b[0m \u001b[0mself\u001b[0m\u001b[0;34m.\u001b[0m\u001b[0m_dataset_kind\u001b[0m \u001b[0;34m==\u001b[0m \u001b[0m_DatasetKind\u001b[0m\u001b[0;34m.\u001b[0m\u001b[0mIterable\u001b[0m \u001b[0;32mand\u001b[0m\u001b[0;31m \u001b[0m\u001b[0;31m\\\u001b[0m\u001b[0;34m\u001b[0m\u001b[0;34m\u001b[0m\u001b[0m\n",
            "\u001b[0;32m/usr/local/lib/python3.7/dist-packages/torch/utils/data/dataloader.py\u001b[0m in \u001b[0;36m_next_data\u001b[0;34m(self)\u001b[0m\n\u001b[1;32m    555\u001b[0m     \u001b[0;32mdef\u001b[0m \u001b[0m_next_data\u001b[0m\u001b[0;34m(\u001b[0m\u001b[0mself\u001b[0m\u001b[0;34m)\u001b[0m\u001b[0;34m:\u001b[0m\u001b[0;34m\u001b[0m\u001b[0;34m\u001b[0m\u001b[0m\n\u001b[1;32m    556\u001b[0m         \u001b[0mindex\u001b[0m \u001b[0;34m=\u001b[0m \u001b[0mself\u001b[0m\u001b[0;34m.\u001b[0m\u001b[0m_next_index\u001b[0m\u001b[0;34m(\u001b[0m\u001b[0;34m)\u001b[0m  \u001b[0;31m# may raise StopIteration\u001b[0m\u001b[0;34m\u001b[0m\u001b[0;34m\u001b[0m\u001b[0m\n\u001b[0;32m--> 557\u001b[0;31m         \u001b[0mdata\u001b[0m \u001b[0;34m=\u001b[0m \u001b[0mself\u001b[0m\u001b[0;34m.\u001b[0m\u001b[0m_dataset_fetcher\u001b[0m\u001b[0;34m.\u001b[0m\u001b[0mfetch\u001b[0m\u001b[0;34m(\u001b[0m\u001b[0mindex\u001b[0m\u001b[0;34m)\u001b[0m  \u001b[0;31m# may raise StopIteration\u001b[0m\u001b[0;34m\u001b[0m\u001b[0;34m\u001b[0m\u001b[0m\n\u001b[0m\u001b[1;32m    558\u001b[0m         \u001b[0;32mif\u001b[0m \u001b[0mself\u001b[0m\u001b[0;34m.\u001b[0m\u001b[0m_pin_memory\u001b[0m\u001b[0;34m:\u001b[0m\u001b[0;34m\u001b[0m\u001b[0;34m\u001b[0m\u001b[0m\n\u001b[1;32m    559\u001b[0m             \u001b[0mdata\u001b[0m \u001b[0;34m=\u001b[0m \u001b[0m_utils\u001b[0m\u001b[0;34m.\u001b[0m\u001b[0mpin_memory\u001b[0m\u001b[0;34m.\u001b[0m\u001b[0mpin_memory\u001b[0m\u001b[0;34m(\u001b[0m\u001b[0mdata\u001b[0m\u001b[0;34m)\u001b[0m\u001b[0;34m\u001b[0m\u001b[0;34m\u001b[0m\u001b[0m\n",
            "\u001b[0;32m/usr/local/lib/python3.7/dist-packages/torch/utils/data/_utils/fetch.py\u001b[0m in \u001b[0;36mfetch\u001b[0;34m(self, possibly_batched_index)\u001b[0m\n\u001b[1;32m     42\u001b[0m     \u001b[0;32mdef\u001b[0m \u001b[0mfetch\u001b[0m\u001b[0;34m(\u001b[0m\u001b[0mself\u001b[0m\u001b[0;34m,\u001b[0m \u001b[0mpossibly_batched_index\u001b[0m\u001b[0;34m)\u001b[0m\u001b[0;34m:\u001b[0m\u001b[0;34m\u001b[0m\u001b[0;34m\u001b[0m\u001b[0m\n\u001b[1;32m     43\u001b[0m         \u001b[0;32mif\u001b[0m \u001b[0mself\u001b[0m\u001b[0;34m.\u001b[0m\u001b[0mauto_collation\u001b[0m\u001b[0;34m:\u001b[0m\u001b[0;34m\u001b[0m\u001b[0;34m\u001b[0m\u001b[0m\n\u001b[0;32m---> 44\u001b[0;31m             \u001b[0mdata\u001b[0m \u001b[0;34m=\u001b[0m \u001b[0;34m[\u001b[0m\u001b[0mself\u001b[0m\u001b[0;34m.\u001b[0m\u001b[0mdataset\u001b[0m\u001b[0;34m[\u001b[0m\u001b[0midx\u001b[0m\u001b[0;34m]\u001b[0m \u001b[0;32mfor\u001b[0m \u001b[0midx\u001b[0m \u001b[0;32min\u001b[0m \u001b[0mpossibly_batched_index\u001b[0m\u001b[0;34m]\u001b[0m\u001b[0;34m\u001b[0m\u001b[0;34m\u001b[0m\u001b[0m\n\u001b[0m\u001b[1;32m     45\u001b[0m         \u001b[0;32melse\u001b[0m\u001b[0;34m:\u001b[0m\u001b[0;34m\u001b[0m\u001b[0;34m\u001b[0m\u001b[0m\n\u001b[1;32m     46\u001b[0m             \u001b[0mdata\u001b[0m \u001b[0;34m=\u001b[0m \u001b[0mself\u001b[0m\u001b[0;34m.\u001b[0m\u001b[0mdataset\u001b[0m\u001b[0;34m[\u001b[0m\u001b[0mpossibly_batched_index\u001b[0m\u001b[0;34m]\u001b[0m\u001b[0;34m\u001b[0m\u001b[0;34m\u001b[0m\u001b[0m\n",
            "\u001b[0;32m/usr/local/lib/python3.7/dist-packages/torch/utils/data/_utils/fetch.py\u001b[0m in \u001b[0;36m<listcomp>\u001b[0;34m(.0)\u001b[0m\n\u001b[1;32m     42\u001b[0m     \u001b[0;32mdef\u001b[0m \u001b[0mfetch\u001b[0m\u001b[0;34m(\u001b[0m\u001b[0mself\u001b[0m\u001b[0;34m,\u001b[0m \u001b[0mpossibly_batched_index\u001b[0m\u001b[0;34m)\u001b[0m\u001b[0;34m:\u001b[0m\u001b[0;34m\u001b[0m\u001b[0;34m\u001b[0m\u001b[0m\n\u001b[1;32m     43\u001b[0m         \u001b[0;32mif\u001b[0m \u001b[0mself\u001b[0m\u001b[0;34m.\u001b[0m\u001b[0mauto_collation\u001b[0m\u001b[0;34m:\u001b[0m\u001b[0;34m\u001b[0m\u001b[0;34m\u001b[0m\u001b[0m\n\u001b[0;32m---> 44\u001b[0;31m             \u001b[0mdata\u001b[0m \u001b[0;34m=\u001b[0m \u001b[0;34m[\u001b[0m\u001b[0mself\u001b[0m\u001b[0;34m.\u001b[0m\u001b[0mdataset\u001b[0m\u001b[0;34m[\u001b[0m\u001b[0midx\u001b[0m\u001b[0;34m]\u001b[0m \u001b[0;32mfor\u001b[0m \u001b[0midx\u001b[0m \u001b[0;32min\u001b[0m \u001b[0mpossibly_batched_index\u001b[0m\u001b[0;34m]\u001b[0m\u001b[0;34m\u001b[0m\u001b[0;34m\u001b[0m\u001b[0m\n\u001b[0m\u001b[1;32m     45\u001b[0m         \u001b[0;32melse\u001b[0m\u001b[0;34m:\u001b[0m\u001b[0;34m\u001b[0m\u001b[0;34m\u001b[0m\u001b[0m\n\u001b[1;32m     46\u001b[0m             \u001b[0mdata\u001b[0m \u001b[0;34m=\u001b[0m \u001b[0mself\u001b[0m\u001b[0;34m.\u001b[0m\u001b[0mdataset\u001b[0m\u001b[0;34m[\u001b[0m\u001b[0mpossibly_batched_index\u001b[0m\u001b[0;34m]\u001b[0m\u001b[0;34m\u001b[0m\u001b[0;34m\u001b[0m\u001b[0m\n",
            "\u001b[0;32m/usr/local/lib/python3.7/dist-packages/torch/utils/data/dataset.py\u001b[0m in \u001b[0;36m__getitem__\u001b[0;34m(self, idx)\u001b[0m\n\u001b[1;32m    328\u001b[0m \u001b[0;34m\u001b[0m\u001b[0m\n\u001b[1;32m    329\u001b[0m     \u001b[0;32mdef\u001b[0m \u001b[0m__getitem__\u001b[0m\u001b[0;34m(\u001b[0m\u001b[0mself\u001b[0m\u001b[0;34m,\u001b[0m \u001b[0midx\u001b[0m\u001b[0;34m)\u001b[0m\u001b[0;34m:\u001b[0m\u001b[0;34m\u001b[0m\u001b[0;34m\u001b[0m\u001b[0m\n\u001b[0;32m--> 330\u001b[0;31m         \u001b[0;32mreturn\u001b[0m \u001b[0mself\u001b[0m\u001b[0;34m.\u001b[0m\u001b[0mdataset\u001b[0m\u001b[0;34m[\u001b[0m\u001b[0mself\u001b[0m\u001b[0;34m.\u001b[0m\u001b[0mindices\u001b[0m\u001b[0;34m[\u001b[0m\u001b[0midx\u001b[0m\u001b[0;34m]\u001b[0m\u001b[0;34m]\u001b[0m\u001b[0;34m\u001b[0m\u001b[0;34m\u001b[0m\u001b[0m\n\u001b[0m\u001b[1;32m    331\u001b[0m \u001b[0;34m\u001b[0m\u001b[0m\n\u001b[1;32m    332\u001b[0m     \u001b[0;32mdef\u001b[0m \u001b[0m__len__\u001b[0m\u001b[0;34m(\u001b[0m\u001b[0mself\u001b[0m\u001b[0;34m)\u001b[0m\u001b[0;34m:\u001b[0m\u001b[0;34m\u001b[0m\u001b[0;34m\u001b[0m\u001b[0m\n",
            "\u001b[0;32m<ipython-input-6-c0a668f3cfd6>\u001b[0m in \u001b[0;36m__getitem__\u001b[0;34m(self, index)\u001b[0m\n\u001b[1;32m      8\u001b[0m \u001b[0;34m\u001b[0m\u001b[0m\n\u001b[1;32m      9\u001b[0m     \u001b[0;32mdef\u001b[0m \u001b[0m__getitem__\u001b[0m\u001b[0;34m(\u001b[0m\u001b[0mself\u001b[0m\u001b[0;34m,\u001b[0m \u001b[0mindex\u001b[0m\u001b[0;34m)\u001b[0m\u001b[0;34m:\u001b[0m\u001b[0;34m\u001b[0m\u001b[0;34m\u001b[0m\u001b[0m\n\u001b[0;32m---> 10\u001b[0;31m       \u001b[0mdf\u001b[0m\u001b[0;34m=\u001b[0m\u001b[0mpd\u001b[0m\u001b[0;34m.\u001b[0m\u001b[0mread_csv\u001b[0m\u001b[0;34m(\u001b[0m\u001b[0mself\u001b[0m\u001b[0;34m.\u001b[0m\u001b[0mdatapath\u001b[0m\u001b[0;34m)\u001b[0m\u001b[0;34m\u001b[0m\u001b[0;34m\u001b[0m\u001b[0m\n\u001b[0m\u001b[1;32m     11\u001b[0m       \u001b[0my\u001b[0m\u001b[0;34m,\u001b[0m\u001b[0mx\u001b[0m\u001b[0;34m=\u001b[0m\u001b[0mdf\u001b[0m\u001b[0;34m.\u001b[0m\u001b[0miloc\u001b[0m\u001b[0;34m[\u001b[0m\u001b[0mindex\u001b[0m\u001b[0;34m]\u001b[0m\u001b[0;34m\u001b[0m\u001b[0;34m\u001b[0m\u001b[0m\n\u001b[1;32m     12\u001b[0m       \u001b[0mtokens\u001b[0m\u001b[0;34m=\u001b[0m\u001b[0mtokenizer\u001b[0m\u001b[0;34m(\u001b[0m\u001b[0mx\u001b[0m\u001b[0;34m)\u001b[0m\u001b[0;34m\u001b[0m\u001b[0;34m\u001b[0m\u001b[0m\n",
            "\u001b[0;32m/usr/local/lib/python3.7/dist-packages/pandas/io/parsers.py\u001b[0m in \u001b[0;36mread_csv\u001b[0;34m(filepath_or_buffer, sep, delimiter, header, names, index_col, usecols, squeeze, prefix, mangle_dupe_cols, dtype, engine, converters, true_values, false_values, skipinitialspace, skiprows, skipfooter, nrows, na_values, keep_default_na, na_filter, verbose, skip_blank_lines, parse_dates, infer_datetime_format, keep_date_col, date_parser, dayfirst, cache_dates, iterator, chunksize, compression, thousands, decimal, lineterminator, quotechar, quoting, doublequote, escapechar, comment, encoding, dialect, error_bad_lines, warn_bad_lines, delim_whitespace, low_memory, memory_map, float_precision)\u001b[0m\n\u001b[1;32m    686\u001b[0m     )\n\u001b[1;32m    687\u001b[0m \u001b[0;34m\u001b[0m\u001b[0m\n\u001b[0;32m--> 688\u001b[0;31m     \u001b[0;32mreturn\u001b[0m \u001b[0m_read\u001b[0m\u001b[0;34m(\u001b[0m\u001b[0mfilepath_or_buffer\u001b[0m\u001b[0;34m,\u001b[0m \u001b[0mkwds\u001b[0m\u001b[0;34m)\u001b[0m\u001b[0;34m\u001b[0m\u001b[0;34m\u001b[0m\u001b[0m\n\u001b[0m\u001b[1;32m    689\u001b[0m \u001b[0;34m\u001b[0m\u001b[0m\n\u001b[1;32m    690\u001b[0m \u001b[0;34m\u001b[0m\u001b[0m\n",
            "\u001b[0;32m/usr/local/lib/python3.7/dist-packages/pandas/io/parsers.py\u001b[0m in \u001b[0;36m_read\u001b[0;34m(filepath_or_buffer, kwds)\u001b[0m\n\u001b[1;32m    458\u001b[0m \u001b[0;34m\u001b[0m\u001b[0m\n\u001b[1;32m    459\u001b[0m     \u001b[0;32mtry\u001b[0m\u001b[0;34m:\u001b[0m\u001b[0;34m\u001b[0m\u001b[0;34m\u001b[0m\u001b[0m\n\u001b[0;32m--> 460\u001b[0;31m         \u001b[0mdata\u001b[0m \u001b[0;34m=\u001b[0m \u001b[0mparser\u001b[0m\u001b[0;34m.\u001b[0m\u001b[0mread\u001b[0m\u001b[0;34m(\u001b[0m\u001b[0mnrows\u001b[0m\u001b[0;34m)\u001b[0m\u001b[0;34m\u001b[0m\u001b[0;34m\u001b[0m\u001b[0m\n\u001b[0m\u001b[1;32m    461\u001b[0m     \u001b[0;32mfinally\u001b[0m\u001b[0;34m:\u001b[0m\u001b[0;34m\u001b[0m\u001b[0;34m\u001b[0m\u001b[0m\n\u001b[1;32m    462\u001b[0m         \u001b[0mparser\u001b[0m\u001b[0;34m.\u001b[0m\u001b[0mclose\u001b[0m\u001b[0;34m(\u001b[0m\u001b[0;34m)\u001b[0m\u001b[0;34m\u001b[0m\u001b[0;34m\u001b[0m\u001b[0m\n",
            "\u001b[0;32m/usr/local/lib/python3.7/dist-packages/pandas/io/parsers.py\u001b[0m in \u001b[0;36mread\u001b[0;34m(self, nrows)\u001b[0m\n\u001b[1;32m   1196\u001b[0m     \u001b[0;32mdef\u001b[0m \u001b[0mread\u001b[0m\u001b[0;34m(\u001b[0m\u001b[0mself\u001b[0m\u001b[0;34m,\u001b[0m \u001b[0mnrows\u001b[0m\u001b[0;34m=\u001b[0m\u001b[0;32mNone\u001b[0m\u001b[0;34m)\u001b[0m\u001b[0;34m:\u001b[0m\u001b[0;34m\u001b[0m\u001b[0;34m\u001b[0m\u001b[0m\n\u001b[1;32m   1197\u001b[0m         \u001b[0mnrows\u001b[0m \u001b[0;34m=\u001b[0m \u001b[0m_validate_integer\u001b[0m\u001b[0;34m(\u001b[0m\u001b[0;34m\"nrows\"\u001b[0m\u001b[0;34m,\u001b[0m \u001b[0mnrows\u001b[0m\u001b[0;34m)\u001b[0m\u001b[0;34m\u001b[0m\u001b[0;34m\u001b[0m\u001b[0m\n\u001b[0;32m-> 1198\u001b[0;31m         \u001b[0mret\u001b[0m \u001b[0;34m=\u001b[0m \u001b[0mself\u001b[0m\u001b[0;34m.\u001b[0m\u001b[0m_engine\u001b[0m\u001b[0;34m.\u001b[0m\u001b[0mread\u001b[0m\u001b[0;34m(\u001b[0m\u001b[0mnrows\u001b[0m\u001b[0;34m)\u001b[0m\u001b[0;34m\u001b[0m\u001b[0;34m\u001b[0m\u001b[0m\n\u001b[0m\u001b[1;32m   1199\u001b[0m \u001b[0;34m\u001b[0m\u001b[0m\n\u001b[1;32m   1200\u001b[0m         \u001b[0;31m# May alter columns / col_dict\u001b[0m\u001b[0;34m\u001b[0m\u001b[0;34m\u001b[0m\u001b[0;34m\u001b[0m\u001b[0m\n",
            "\u001b[0;32m/usr/local/lib/python3.7/dist-packages/pandas/io/parsers.py\u001b[0m in \u001b[0;36mread\u001b[0;34m(self, nrows)\u001b[0m\n\u001b[1;32m   2155\u001b[0m     \u001b[0;32mdef\u001b[0m \u001b[0mread\u001b[0m\u001b[0;34m(\u001b[0m\u001b[0mself\u001b[0m\u001b[0;34m,\u001b[0m \u001b[0mnrows\u001b[0m\u001b[0;34m=\u001b[0m\u001b[0;32mNone\u001b[0m\u001b[0;34m)\u001b[0m\u001b[0;34m:\u001b[0m\u001b[0;34m\u001b[0m\u001b[0;34m\u001b[0m\u001b[0m\n\u001b[1;32m   2156\u001b[0m         \u001b[0;32mtry\u001b[0m\u001b[0;34m:\u001b[0m\u001b[0;34m\u001b[0m\u001b[0;34m\u001b[0m\u001b[0m\n\u001b[0;32m-> 2157\u001b[0;31m             \u001b[0mdata\u001b[0m \u001b[0;34m=\u001b[0m \u001b[0mself\u001b[0m\u001b[0;34m.\u001b[0m\u001b[0m_reader\u001b[0m\u001b[0;34m.\u001b[0m\u001b[0mread\u001b[0m\u001b[0;34m(\u001b[0m\u001b[0mnrows\u001b[0m\u001b[0;34m)\u001b[0m\u001b[0;34m\u001b[0m\u001b[0;34m\u001b[0m\u001b[0m\n\u001b[0m\u001b[1;32m   2158\u001b[0m         \u001b[0;32mexcept\u001b[0m \u001b[0mStopIteration\u001b[0m\u001b[0;34m:\u001b[0m\u001b[0;34m\u001b[0m\u001b[0;34m\u001b[0m\u001b[0m\n\u001b[1;32m   2159\u001b[0m             \u001b[0;32mif\u001b[0m \u001b[0mself\u001b[0m\u001b[0;34m.\u001b[0m\u001b[0m_first_chunk\u001b[0m\u001b[0;34m:\u001b[0m\u001b[0;34m\u001b[0m\u001b[0;34m\u001b[0m\u001b[0m\n",
            "\u001b[0;32mpandas/_libs/parsers.pyx\u001b[0m in \u001b[0;36mpandas._libs.parsers.TextReader.read\u001b[0;34m()\u001b[0m\n",
            "\u001b[0;32mpandas/_libs/parsers.pyx\u001b[0m in \u001b[0;36mpandas._libs.parsers.TextReader._read_low_memory\u001b[0;34m()\u001b[0m\n",
            "\u001b[0;32mpandas/_libs/parsers.pyx\u001b[0m in \u001b[0;36mpandas._libs.parsers._concatenate_chunks\u001b[0;34m()\u001b[0m\n",
            "\u001b[0;32m/usr/local/lib/python3.7/dist-packages/pandas/core/dtypes/common.py\u001b[0m in \u001b[0;36mis_categorical_dtype\u001b[0;34m(arr_or_dtype)\u001b[0m\n\u001b[1;32m    528\u001b[0m \u001b[0;34m\u001b[0m\u001b[0m\n\u001b[1;32m    529\u001b[0m \u001b[0;34m\u001b[0m\u001b[0m\n\u001b[0;32m--> 530\u001b[0;31m \u001b[0;32mdef\u001b[0m \u001b[0mis_categorical_dtype\u001b[0m\u001b[0;34m(\u001b[0m\u001b[0marr_or_dtype\u001b[0m\u001b[0;34m)\u001b[0m \u001b[0;34m->\u001b[0m \u001b[0mbool\u001b[0m\u001b[0;34m:\u001b[0m\u001b[0;34m\u001b[0m\u001b[0;34m\u001b[0m\u001b[0m\n\u001b[0m\u001b[1;32m    531\u001b[0m     \"\"\"\n\u001b[1;32m    532\u001b[0m     \u001b[0mCheck\u001b[0m \u001b[0mwhether\u001b[0m \u001b[0man\u001b[0m \u001b[0marray\u001b[0m\u001b[0;34m-\u001b[0m\u001b[0mlike\u001b[0m \u001b[0;32mor\u001b[0m \u001b[0mdtype\u001b[0m \u001b[0;32mis\u001b[0m \u001b[0mof\u001b[0m \u001b[0mthe\u001b[0m \u001b[0mCategorical\u001b[0m \u001b[0mdtype\u001b[0m\u001b[0;34m.\u001b[0m\u001b[0;34m\u001b[0m\u001b[0;34m\u001b[0m\u001b[0m\n",
            "\u001b[0;31mKeyboardInterrupt\u001b[0m: "
          ]
        }
      ]
    },
    {
      "cell_type": "code",
      "metadata": {
        "colab": {
          "base_uri": "https://localhost:8080/"
        },
        "id": "83d0dpA8NFda",
        "outputId": "56f0fd24-34e8-45f8-e578-e67bb25fd01f"
      },
      "source": [
        "val_loss,val_acc = evaluate(val_dataloader)\r\n",
        "val_acc"
      ],
      "execution_count": 22,
      "outputs": [
        {
          "output_type": "execute_result",
          "data": {
            "text/plain": [
              "0.9856424982053122"
            ]
          },
          "metadata": {
            "tags": []
          },
          "execution_count": 22
        }
      ]
    },
    {
      "cell_type": "code",
      "metadata": {
        "id": "QODt5V3UNpFa"
      },
      "source": [
        "params=model.state_dict()\r\n",
        "torch.save(parms,\"trained_model_weights.pt\")"
      ],
      "execution_count": 25,
      "outputs": []
    },
    {
      "cell_type": "code",
      "metadata": {
        "colab": {
          "base_uri": "https://localhost:8080/"
        },
        "id": "4yQiru5KOPTV",
        "outputId": "9dce009f-53f1-432f-ff0d-1aa6be959913"
      },
      "source": [
        "loaded_params=torch.load(\"trained_model_weights.pt\")\r\n",
        "model.load_state_dict(loaded_params)"
      ],
      "execution_count": 27,
      "outputs": [
        {
          "output_type": "execute_result",
          "data": {
            "text/plain": [
              "<All keys matched successfully>"
            ]
          },
          "metadata": {
            "tags": []
          },
          "execution_count": 27
        }
      ]
    },
    {
      "cell_type": "code",
      "metadata": {
        "id": "XjPQhy28e9Q_"
      },
      "source": [
        "spam_labels = {2: \"Spam\", 1: \"Not Spam\"}\r\n",
        "def predict(text):\r\n",
        "  tokens=tokenizer(text)\r\n",
        "  vector=[]\r\n",
        "  for token in tokens:\r\n",
        "    if token in res:\r\n",
        "      vector.append(hash.get(token))\r\n",
        "  t=torch.tensor(vector)\r\n",
        "  output=model(text,torch.tensor([0]))\r\n",
        "  return output.argmax(1).item()+1\r\n",
        "\r\n",
        "\r\n",
        "\r\n"
      ],
      "execution_count": null,
      "outputs": []
    },
    {
      "cell_type": "code",
      "metadata": {
        "colab": {
          "base_uri": "https://localhost:8080/",
          "height": 357
        },
        "id": "xqHZfmds81v8",
        "outputId": "e977d7b6-51d8-4f16-d77e-344b08dcb116"
      },
      "source": [
        "string=\"Dear Nathan, Congratulations on your invitation to join Honor Society! Accepting this distinction to the largest academic society in the USA connects you with like-minded high achievers from your region and across the world, both in person and through our society's web portal. Honor Society recognizes achievement, and builds a framework for future success. Your satisfaction as a member is our highest priority and guaranteed. Now is a great time to secure your honors regalia for graduation, even if graduation is celebrated from home due to COVID-19. It's also a great time to obtain a print or free digital PDF version of your membership certificate, and be proud of your membership with exclusive member apparel. Honor Society regalia, t-shirts and caps are available exclusively for members in the Honor Society Store!  Join now to claim your place alongside other high-achievers. As an honor society inductee, you are eligible to receive our society regalia for graduation, or as a keepsake. Please activate your membership now\"\r\n",
        "tokens=tokenizer(string)\r\n",
        "vector=[]\r\n",
        "for token in tokens:\r\n",
        "  if token in res:\r\n",
        "    vector.append(hash.get(token))\r\n",
        "t=torch.tensor(vector)\r\n",
        "output=model(t,torch.tensor([0]))\r\n",
        "f=output.argmax(1).item()+1\r\n",
        "print(spam_labels.get(f))\r\n"
      ],
      "execution_count": 32,
      "outputs": [
        {
          "output_type": "error",
          "ename": "TypeError",
          "evalue": "ignored",
          "traceback": [
            "\u001b[0;31m---------------------------------------------------------------------------\u001b[0m",
            "\u001b[0;31mTypeError\u001b[0m                                 Traceback (most recent call last)",
            "\u001b[0;32m<ipython-input-32-7ee249414d24>\u001b[0m in \u001b[0;36m<module>\u001b[0;34m()\u001b[0m\n\u001b[1;32m      6\u001b[0m     \u001b[0mvector\u001b[0m\u001b[0;34m.\u001b[0m\u001b[0mappend\u001b[0m\u001b[0;34m(\u001b[0m\u001b[0mhash\u001b[0m\u001b[0;34m.\u001b[0m\u001b[0mget\u001b[0m\u001b[0;34m(\u001b[0m\u001b[0mtoken\u001b[0m\u001b[0;34m)\u001b[0m\u001b[0;34m)\u001b[0m\u001b[0;34m\u001b[0m\u001b[0;34m\u001b[0m\u001b[0m\n\u001b[1;32m      7\u001b[0m \u001b[0mt\u001b[0m\u001b[0;34m=\u001b[0m\u001b[0mtorch\u001b[0m\u001b[0;34m.\u001b[0m\u001b[0mtensor\u001b[0m\u001b[0;34m(\u001b[0m\u001b[0mvector\u001b[0m\u001b[0;34m)\u001b[0m\u001b[0;34m\u001b[0m\u001b[0;34m\u001b[0m\u001b[0m\n\u001b[0;32m----> 8\u001b[0;31m \u001b[0moutput\u001b[0m\u001b[0;34m=\u001b[0m\u001b[0mmodel\u001b[0m\u001b[0;34m(\u001b[0m\u001b[0mt\u001b[0m\u001b[0;34m,\u001b[0m\u001b[0mtorch\u001b[0m\u001b[0;34m.\u001b[0m\u001b[0mtensor\u001b[0m\u001b[0;34m(\u001b[0m\u001b[0;34m[\u001b[0m\u001b[0;36m0\u001b[0m\u001b[0;34m]\u001b[0m\u001b[0;34m)\u001b[0m\u001b[0;34m)\u001b[0m\u001b[0;34m\u001b[0m\u001b[0;34m\u001b[0m\u001b[0m\n\u001b[0m\u001b[1;32m      9\u001b[0m \u001b[0mf\u001b[0m\u001b[0;34m=\u001b[0m\u001b[0moutput\u001b[0m\u001b[0;34m.\u001b[0m\u001b[0margmax\u001b[0m\u001b[0;34m(\u001b[0m\u001b[0;36m1\u001b[0m\u001b[0;34m)\u001b[0m\u001b[0;34m.\u001b[0m\u001b[0mitem\u001b[0m\u001b[0;34m(\u001b[0m\u001b[0;34m)\u001b[0m\u001b[0;34m+\u001b[0m\u001b[0;36m1\u001b[0m\u001b[0;34m\u001b[0m\u001b[0;34m\u001b[0m\u001b[0m\n\u001b[1;32m     10\u001b[0m \u001b[0mprint\u001b[0m\u001b[0;34m(\u001b[0m\u001b[0mspam_labels\u001b[0m\u001b[0;34m.\u001b[0m\u001b[0mget\u001b[0m\u001b[0;34m(\u001b[0m\u001b[0mf\u001b[0m\u001b[0;34m)\u001b[0m\u001b[0;34m)\u001b[0m\u001b[0;34m\u001b[0m\u001b[0;34m\u001b[0m\u001b[0m\n",
            "\u001b[0;32m/usr/local/lib/python3.7/dist-packages/torch/nn/modules/module.py\u001b[0m in \u001b[0;36m_call_impl\u001b[0;34m(self, *input, **kwargs)\u001b[0m\n\u001b[1;32m    887\u001b[0m             \u001b[0mresult\u001b[0m \u001b[0;34m=\u001b[0m \u001b[0mself\u001b[0m\u001b[0;34m.\u001b[0m\u001b[0m_slow_forward\u001b[0m\u001b[0;34m(\u001b[0m\u001b[0;34m*\u001b[0m\u001b[0minput\u001b[0m\u001b[0;34m,\u001b[0m \u001b[0;34m**\u001b[0m\u001b[0mkwargs\u001b[0m\u001b[0;34m)\u001b[0m\u001b[0;34m\u001b[0m\u001b[0;34m\u001b[0m\u001b[0m\n\u001b[1;32m    888\u001b[0m         \u001b[0;32melse\u001b[0m\u001b[0;34m:\u001b[0m\u001b[0;34m\u001b[0m\u001b[0;34m\u001b[0m\u001b[0m\n\u001b[0;32m--> 889\u001b[0;31m             \u001b[0mresult\u001b[0m \u001b[0;34m=\u001b[0m \u001b[0mself\u001b[0m\u001b[0;34m.\u001b[0m\u001b[0mforward\u001b[0m\u001b[0;34m(\u001b[0m\u001b[0;34m*\u001b[0m\u001b[0minput\u001b[0m\u001b[0;34m,\u001b[0m \u001b[0;34m**\u001b[0m\u001b[0mkwargs\u001b[0m\u001b[0;34m)\u001b[0m\u001b[0;34m\u001b[0m\u001b[0;34m\u001b[0m\u001b[0m\n\u001b[0m\u001b[1;32m    890\u001b[0m         for hook in itertools.chain(\n\u001b[1;32m    891\u001b[0m                 \u001b[0m_global_forward_hooks\u001b[0m\u001b[0;34m.\u001b[0m\u001b[0mvalues\u001b[0m\u001b[0;34m(\u001b[0m\u001b[0;34m)\u001b[0m\u001b[0;34m,\u001b[0m\u001b[0;34m\u001b[0m\u001b[0;34m\u001b[0m\u001b[0m\n",
            "\u001b[0;31mTypeError\u001b[0m: forward() takes 2 positional arguments but 3 were given"
          ]
        }
      ]
    },
    {
      "cell_type": "code",
      "metadata": {
        "id": "jcQRDxqf-KJV"
      },
      "source": [
        "print(hash)"
      ],
      "execution_count": null,
      "outputs": []
    },
    {
      "cell_type": "code",
      "metadata": {
        "id": "7YQ1D24aVXOB"
      },
      "source": [
        "hash.get(\"go\")"
      ],
      "execution_count": null,
      "outputs": []
    },
    {
      "cell_type": "code",
      "metadata": {
        "colab": {
          "base_uri": "https://localhost:8080/"
        },
        "id": "cpLTJhC7Qw3b",
        "outputId": "b5951792-a170-4885-e4f7-979cda2bb0f5"
      },
      "source": [
        "params=model.state_dict()\r\n",
        "params"
      ],
      "execution_count": 24,
      "outputs": [
        {
          "output_type": "execute_result",
          "data": {
            "text/plain": [
              "OrderedDict([('emb1.weight',\n",
              "              tensor([[ 0.3002, -0.6702, -1.3321,  ..., -1.7519,  0.4022, -0.6568],\n",
              "                      [ 1.2215, -0.7221,  0.3612,  ...,  0.8680,  0.3894,  1.4103],\n",
              "                      [-0.7370,  0.9719,  0.6571,  ..., -0.5504,  0.9351, -1.1052],\n",
              "                      ...,\n",
              "                      [ 1.0293, -1.0766, -1.1664,  ...,  1.2490,  0.8252, -0.9720],\n",
              "                      [-0.1692, -1.1205,  1.0060,  ..., -1.4079,  0.5251,  0.9065],\n",
              "                      [ 2.1366,  0.2230, -0.2871,  ..., -0.4251, -1.1195, -1.6365]])),\n",
              "             ('lstm1.weight_ih_l0',\n",
              "              tensor([[ 0.1875, -0.1929, -0.0908,  ..., -0.0941, -0.2039, -0.2603],\n",
              "                      [-0.1869,  0.1580,  0.1210,  ...,  0.0601,  0.2309, -0.0668],\n",
              "                      [ 0.1860, -0.0249,  0.0979,  ..., -0.2043, -0.0242, -0.0690],\n",
              "                      ...,\n",
              "                      [ 0.1256,  0.1671, -0.0026,  ...,  0.0441, -0.0811, -0.2452],\n",
              "                      [ 0.2882, -0.1979,  0.0949,  ..., -0.0354, -0.3214, -0.1920],\n",
              "                      [-0.0572,  0.1789,  0.1813,  ..., -0.1598, -0.0014, -0.0044]])),\n",
              "             ('lstm1.weight_hh_l0',\n",
              "              tensor([[-0.0314, -0.0731, -0.1434,  ..., -0.1590, -0.1039, -0.1389],\n",
              "                      [-0.2076,  0.1446, -0.0317,  ..., -0.1650, -0.3007, -0.0706],\n",
              "                      [ 0.1132, -0.3131,  0.2020,  ...,  0.4792, -0.0454, -0.1507],\n",
              "                      ...,\n",
              "                      [-0.3494,  0.0134,  0.2772,  ..., -0.5483, -0.2310,  0.2034],\n",
              "                      [-0.2216, -0.0603,  0.0039,  ...,  0.1143, -0.0346, -0.0894],\n",
              "                      [ 0.0402, -0.5270,  0.0578,  ...,  0.3948, -0.1525,  0.0939]])),\n",
              "             ('lstm1.bias_ih_l0',\n",
              "              tensor([ 0.0859,  0.3187,  0.3978,  0.1964,  0.1267, -0.0775,  0.1562,  0.1123,\n",
              "                       0.2022,  0.1788,  0.4756,  0.3332,  0.3245,  0.4560,  0.6321,  0.2576,\n",
              "                       0.0500,  0.3796,  0.4508,  0.5348,  0.1734,  0.3358,  0.2878,  0.2593,\n",
              "                       0.3437,  0.2932,  0.5326,  0.4081,  0.3089,  0.1629,  0.4874,  0.0951,\n",
              "                       0.0775,  0.2253,  0.1240,  0.1861,  0.3635,  0.4393, -0.0281,  0.1205,\n",
              "                       0.1197,  0.1562,  0.2326,  0.0567,  0.1942,  0.0916,  0.0197,  0.1123,\n",
              "                       0.3218,  0.0173,  0.4127,  0.3979,  0.0255,  0.1150,  0.1282,  0.1179,\n",
              "                       0.2227,  0.4959,  0.0878,  0.0844,  0.1740,  0.3737,  0.2229, -0.0469,\n",
              "                      -0.0851, -0.1290,  0.3865,  0.1584, -0.1060, -0.0883,  0.3680,  0.4698,\n",
              "                       0.0700,  0.1998, -0.5671,  0.0862, -0.1520,  0.3167,  0.4241,  0.3154,\n",
              "                      -0.2401,  0.3148, -0.2477, -0.3774,  0.2756,  0.4955,  0.0914,  0.1268,\n",
              "                       0.4868,  0.2343,  0.5107,  0.2150,  0.3260,  0.0284, -0.0524,  0.1995,\n",
              "                       0.3028,  0.2919,  0.3022,  0.1424,  0.5347,  0.4582,  0.1040,  0.1141,\n",
              "                       0.1731,  0.0799,  0.0450,  0.1524,  0.4112,  0.3813,  0.4226,  0.1522,\n",
              "                       0.3583,  0.2191,  0.3015,  0.2935,  0.1184,  0.1362,  0.1660, -0.0269,\n",
              "                       0.4180,  0.8801,  0.3103,  0.1010,  0.3005,  0.6015,  0.3755,  0.2752])),\n",
              "             ('lstm1.bias_hh_l0',\n",
              "              tensor([-6.1378e-02,  2.8113e-01,  3.6007e-01,  6.3810e-02, -3.1039e-02,\n",
              "                      -6.7162e-02,  2.6149e-01,  3.4016e-01,  1.3103e-01,  3.0173e-01,\n",
              "                       4.8201e-01,  2.2865e-01,  6.4954e-01,  3.2612e-01,  6.5889e-01,\n",
              "                       3.3010e-01,  3.8070e-01,  2.5874e-01,  5.8093e-01,  4.0061e-01,\n",
              "                       3.6421e-01,  5.3979e-01,  2.1806e-01,  2.9022e-01,  1.8564e-01,\n",
              "                       1.9779e-01,  4.2296e-01,  6.4298e-01,  4.7789e-01,  1.1896e-01,\n",
              "                       6.1084e-01,  2.9331e-01,  1.3763e-01,  7.2145e-02,  2.1892e-03,\n",
              "                       1.9278e-04,  2.6266e-01,  2.5389e-01,  6.1110e-02,  1.7542e-02,\n",
              "                       6.3548e-02, -1.4854e-01,  3.9103e-01,  2.0298e-01,  2.0305e-01,\n",
              "                       1.4497e-01,  1.5659e-01, -6.6099e-02,  4.0050e-01,  1.6389e-01,\n",
              "                       2.6705e-01,  3.2668e-01,  1.2052e-01,  1.2279e-01, -1.3368e-01,\n",
              "                      -1.2441e-01,  4.0210e-02,  4.4330e-01, -7.1871e-02,  8.7392e-02,\n",
              "                       1.9994e-01,  3.0130e-01,  2.2895e-01,  1.6776e-01,  2.5861e-02,\n",
              "                      -6.9162e-02,  1.2100e-01,  4.7155e-02, -1.3292e-01,  1.1470e-01,\n",
              "                       3.6642e-01,  3.8618e-01,  1.4054e-01,  2.9533e-01, -4.0747e-01,\n",
              "                       3.5510e-01, -3.3722e-01,  3.8611e-01,  4.7255e-01,  1.2199e-01,\n",
              "                      -1.8712e-01,  6.9104e-02, -3.7448e-01, -4.6098e-01,  2.6045e-01,\n",
              "                       1.8942e-01,  2.8993e-01,  1.4945e-01,  3.9244e-01,  1.6506e-01,\n",
              "                       2.0474e-01,  3.2831e-01,  1.1020e-01,  1.3297e-01, -2.9999e-01,\n",
              "                       9.4126e-02,  2.8992e-01,  4.7727e-01,  3.3320e-01,  2.1534e-02,\n",
              "                       3.5528e-01,  4.3266e-01,  2.2475e-01, -2.8988e-02, -4.2335e-02,\n",
              "                       2.8756e-01,  1.6970e-01,  4.1162e-02,  6.3989e-01,  2.2944e-01,\n",
              "                       3.8986e-01,  8.1857e-02,  3.6842e-01,  2.0556e-01, -2.5784e-02,\n",
              "                       1.5325e-01,  1.0038e-01,  4.4391e-01,  1.4595e-01,  9.5535e-02,\n",
              "                       4.0516e-01,  6.9399e-01,  1.0910e-01,  1.1906e-01,  3.2170e-01,\n",
              "                       4.2952e-01,  8.6015e-02,  2.9704e-01])),\n",
              "             ('lin1.weight',\n",
              "              tensor([[ 0.7117, -0.9835,  0.4499,  0.3392, -1.2512,  0.5372,  0.1849,  0.1684,\n",
              "                        0.2694,  0.4012, -0.1772,  0.3013, -1.0153,  0.4284,  0.1042,  0.2136,\n",
              "                       -1.2388,  0.4063,  0.3381,  0.0537,  0.1877,  0.3343,  0.5249,  0.3303,\n",
              "                        0.4657,  0.4180,  0.3162,  0.3794,  0.2444,  0.4211,  0.1952,  0.3401],\n",
              "                      [-0.5923,  0.9312, -0.4038, -0.3838,  1.2693, -0.4638, -0.4121, -0.0742,\n",
              "                       -0.1345, -0.4054, -0.1195, -0.5104,  1.0100, -0.2344, -0.3371, -0.2839,\n",
              "                        1.0182, -0.1744, -0.2352,  0.0509, -0.4173, -0.2009, -0.3141, -0.1158,\n",
              "                       -0.2696, -0.4521, -0.0937, -0.2822, -0.3798, -0.3505, -0.5034, -0.4758]])),\n",
              "             ('lin1.bias', tensor([-0.4785,  0.3903]))])"
            ]
          },
          "metadata": {
            "tags": []
          },
          "execution_count": 24
        }
      ]
    }
  ]
}